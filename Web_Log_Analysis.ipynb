{
 "cells": [
  {
   "cell_type": "markdown",
   "metadata": {},
   "source": [
    "# Web Log Analysis"
   ]
  },
  {
   "cell_type": "markdown",
   "metadata": {},
   "source": [
    "**Description:** Consider the file weblog.txt. It is a log-file on a network. Each line in the file contains information about IP Address, Date & Time, submit/upload, URL, Protocol version, Status. Detailed description is as below:\n",
    "- **IP Address:** IP address of the machine\n",
    "- **Date & Time:** Date and Time at which event/action has occurred.\n",
    "- **Submit/upload:** GET indicates requesting the server for data, POST indicates trying to upload the data.\n",
    "- **URL:** Name of the URL \n",
    "- **Protocol version:** HTTP/1.1 indicates version of the HTTP protocol\n",
    "- **Status:** Code indicating status of HTTP action.\n",
    "  - 200: Success\n",
    "  - 302: Requested resource has been temporarily moved\n",
    "  - 404: File Not Found\n",
    "  - 304: File Not Modified (means, no update is required)\n",
    "  - 206: Partial content has been processed\n"
   ]
  },
  {
   "cell_type": "markdown",
   "metadata": {},
   "source": [
    "###  Create a dictionary IP_Count where each key-value pair is IP-Address and its frequency in the entire file."
   ]
  },
  {
   "cell_type": "code",
   "execution_count": 1,
   "metadata": {},
   "outputs": [
    {
     "name": "stdout",
     "output_type": "stream",
     "text": [
      "{'10.128.2.1': 4257, '10.131.2.1': 1626, '10.130.2.1': 4056, '10.129.2.1': 1652, '10.131.0.1': 4198}\n"
     ]
    }
   ],
   "source": [
    "import re\n",
    "fhand= open('weblog.txt','r')\n",
    "IP_Count={}\n",
    "for line in fhand:\n",
    "    line=line.rstrip()\n",
    "    if re.search('^10.1\\\\d{2}.\\\\d{1}.\\\\d{1}',line):\n",
    "        IP_Count[line[:10]]= IP_Count.get(line[:10],0)+1\n",
    "        \n",
    "print(IP_Count)   \n",
    "fhand.close()  "
   ]
  },
  {
   "cell_type": "markdown",
   "metadata": {},
   "source": [
    "###  Create a dictionary Daily_Stats where each key-value pair is Date (string containing only the date, without time) and number of actions carried out on that day"
   ]
  },
  {
   "cell_type": "code",
   "execution_count": 2,
   "metadata": {},
   "outputs": [
    {
     "name": "stdout",
     "output_type": "stream",
     "text": [
      "{'29/Nov/2017': 580, '30/Nov/2017': 2991, '01/Dec/2017': 468, '02/Dec/2017': 168, '03/Dec/2017': 105, '07/Nov/2017': 2, '08/Nov/2017': 106, '09/Nov/2017': 236, '10/Nov/2017': 64, '11/Nov/2017': 286, '12/Nov/2017': 338, '13/Nov/2017': 230, '14/Nov/2017': 150, '15/Nov/2017': 78, '16/Nov/2017': 384, '17/Nov/2017': 481, '18/Nov/2017': 96, '19/Nov/2017': 164, '20/Nov/2017': 58, '21/Nov/2017': 47, '22/Nov/2017': 60, '23/Nov/2017': 380, '24/Nov/2017': 94, '25/Nov/2017': 250, '26/Nov/2017': 179, '12/Dec/2017': 86, '13/Dec/2017': 133, '14/Dec/2017': 165, '15/Dec/2017': 100, '16/Dec/2017': 155, '17/Dec/2017': 92, '18/Dec/2017': 178, '19/Dec/2017': 55, '20/Dec/2017': 98, '21/Dec/2017': 72, '22/Dec/2017': 11, '23/Dec/2017': 43, '16/Jan/2018': 76, '17/Jan/2018': 29, '18/Jan/2018': 63, '29/Jan/2018': 5092, '15/Feb/2018': 20, '16/Feb/2018': 33, '17/Feb/2018': 65, '18/Feb/2018': 34, '19/Feb/2018': 32, '20/Feb/2018': 62, '21/Feb/2018': 110, '22/Feb/2018': 231, '23/Feb/2018': 127, '24/Feb/2018': 15, '25/Feb/2018': 139, '26/Feb/2018': 98, '27/Feb/2018': 83, '28/Feb/2018': 123, '01/Mar/2018': 31, '02/Mar/2018': 143}\n"
     ]
    }
   ],
   "source": [
    "import re\n",
    "fhand= open('weblog.txt','r')\n",
    "Daily_Stats={}\n",
    "for line in fhand:\n",
    "    line=line.rstrip()\n",
    "    if re.search(\"[0-9]/\\\\w{3}/[0-9]\",line):\n",
    "        Daily_Stats[line[12:23]]= Daily_Stats.get(line[12:23],0)+1\n",
    "    \n",
    "print(Daily_Stats)   \n",
    "fhand.close() "
   ]
  },
  {
   "cell_type": "markdown",
   "metadata": {},
   "source": [
    "###  Display the URL which has been accessed (either for submit or upload) for most number of times."
   ]
  },
  {
   "cell_type": "code",
   "execution_count": 3,
   "metadata": {},
   "outputs": [
    {
     "name": "stdout",
     "output_type": "stream",
     "text": [
      "URL Accessed Most Number of Times: /login.php\n",
      "Number of times:  3426\n"
     ]
    }
   ],
   "source": [
    "import re\n",
    "fhand= open('weblog.txt','r')\n",
    "URL={}\n",
    "for line in fhand:\n",
    "    line=line.rstrip()\n",
    "    x=re.findall(\"/[a-z]+.[a-z]{3}\",line)\n",
    "    \n",
    "    for i in range(len(x)):\n",
    "        URL[x[i]]=URL.get(x[i],0)+1\n",
    "        \n",
    "for k,v in URL.items():\n",
    "    if v==max(URL.values()):\n",
    "        print(\"URL Accessed Most Number of Times:\", k )\n",
    "        print(\"Number of times: \",v)"
   ]
  },
  {
   "cell_type": "markdown",
   "metadata": {},
   "source": [
    "###  Display the total count of HTTP GET requests and HTTP POST requests"
   ]
  },
  {
   "cell_type": "code",
   "execution_count": 4,
   "metadata": {},
   "outputs": [
    {
     "name": "stdout",
     "output_type": "stream",
     "text": [
      "{'GET ': 15098, 'POST': 682}\n"
     ]
    }
   ],
   "source": [
    "import re\n",
    "fhand= open('weblog.txt','r')\n",
    "Get_Post={}\n",
    "for line in fhand:\n",
    "    line=line.rstrip()\n",
    "    if re.search(\"[GP][EO][TS][ T]\",line):\n",
    "        Get_Post[line[33:37]]= Get_Post.get(line[33:37],0)+1\n",
    "    \n",
    "print(Get_Post)   \n",
    "fhand.close()  "
   ]
  },
  {
   "cell_type": "markdown",
   "metadata": {},
   "source": [
    "###  Create a dictionary Status_Code where key is the status code, and value is a tuple consisting of a string stating meaning of the code and a number indicating the frequency of that code in the file."
   ]
  },
  {
   "cell_type": "code",
   "execution_count": 2,
   "metadata": {},
   "outputs": [
    {
     "name": "stdout",
     "output_type": "stream",
     "text": [
      "{200: ('Success', 11330), 302: ('Requested resource has been temporarily moved', 3498), 304: ('File Not Modified ', 658), 206: ('Partial content has been processed', 52), 404: ('File Not Found', 251)}\n"
     ]
    }
   ],
   "source": [
    "import re\n",
    "fhand= open('weblog.txt','r')\n",
    "Status_Code={}\n",
    "for line in fhand:\n",
    "    line=line.rstrip()\n",
    "    if re.findall(\"[200,206,302,304,404]$\",line):\n",
    "        Status_Code[line[-3:]]=Status_Code.get(line[-3:],0)+1\n",
    "\n",
    "Status_Code1={}\n",
    "for k,v in Status_Code.items():\n",
    "    if k=='200':\n",
    "        Status_Code1[k]=(\"Success\",v)\n",
    "    elif k=='206':\n",
    "        Status_Code1[k]=(\"Partial content has been processed\",v)\n",
    "    elif k=='302':\n",
    "        Status_Code1[k]=(\"Requested resource has been temporarily moved\",v)\n",
    "    elif k=='304':\n",
    "        Status_Code1[k]=(\"File Not Modified \",v)\n",
    "    elif k=='404':\n",
    "        Status_Code1[k]=(\"File Not Found\",v)\n",
    "\n",
    "Status_Code1={int(k):tuple(i for i in v) for k,v in Status_Code1.items()}\n",
    "print(Status_Code1)  \n",
    "fhand.close()  "
   ]
  },
  {
   "cell_type": "markdown",
   "metadata": {},
   "source": [
    "###  Create a histogram (list of tuples) indicating number of actions carried out in an hour of a day."
   ]
  },
  {
   "cell_type": "code",
   "execution_count": 1,
   "metadata": {},
   "outputs": [
    {
     "name": "stdout",
     "output_type": "stream",
     "text": [
      "[(0, 118), (1, 53), (2, 48), (3, 164), (4, 246), (5, 283), (6, 575), (7, 313), (8, 284), (9, 187), (10, 138), (11, 255), (12, 732), (13, 766), (14, 581), (15, 1461), (16, 1169), (17, 754), (18, 734), (19, 847), (20, 5458), (21, 240), (22, 226), (23, 157)]\n"
     ]
    }
   ],
   "source": [
    "import re\n",
    "fhand= open('weblog.txt','r')\n",
    "time_Details=[]\n",
    "\n",
    "for line in fhand:\n",
    "    line=line.rstrip()\n",
    "    if re.search(\"\\\\d:\\\\d\",line):\n",
    "        if line[24:26]!='':\n",
    "            time_Details.append(line[24:26])\n",
    "        \n",
    "time_Details= list(map(int, time_Details))\n",
    "td=[]\n",
    "for i in range(len(time_Details)):\n",
    "    x=time_Details.count(time_Details[i])\n",
    "    td.append((time_Details[i],x))\n",
    "\n",
    "hr=set(td) \n",
    "final_ans=list(hr)\n",
    "final_ans.sort()\n",
    "print(final_ans)"
   ]
  }
 ],
 "metadata": {
  "kernelspec": {
   "display_name": "Python 3",
   "language": "python",
   "name": "python3"
  },
  "language_info": {
   "codemirror_mode": {
    "name": "ipython",
    "version": 3
   },
   "file_extension": ".py",
   "mimetype": "text/x-python",
   "name": "python",
   "nbconvert_exporter": "python",
   "pygments_lexer": "ipython3",
   "version": "3.7.3"
  }
 },
 "nbformat": 4,
 "nbformat_minor": 2
}
